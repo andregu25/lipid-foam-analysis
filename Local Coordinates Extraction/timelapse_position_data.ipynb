{
 "cells": [
  {
   "cell_type": "markdown",
   "id": "06eacf3c",
   "metadata": {},
   "source": [
    "# Overview\n",
    "\n",
    "This module consolidates position tracking files of isolated nodes into a single csv file. Position tracking files (.tif) are taken from a user-specified directory."
   ]
  },
  {
   "cell_type": "code",
   "execution_count": 1,
   "id": "d1f3b5df",
   "metadata": {},
   "outputs": [],
   "source": [
    "import _position_tracking as pt"
   ]
  },
  {
   "cell_type": "markdown",
   "id": "96aa70d7",
   "metadata": {},
   "source": [
    "**Explanation of helper functions:**\n",
    "\n",
    "`count_samples(path)` counts the number of tif files within the `path` directory. These tif files contain position information of nodes over a given timeframe.\n",
    "\n",
    "`get_pos_data(path, t_step=0.5)` outputs an array of position data for all nodes (tif files) within the specified `path` directory. The default timestep between frames, `t-step`, is 0.5 seconds. Each element of the array contains the following list of position data:\n",
    "\n",
    "1.  File ID\n",
    "2.  Time point [s]\n",
    "3.  Local X-coordinate [px]\n",
    "4.  Local Y-coordinate [px]\n",
    "\n",
    "The size of each frame is assumed to be 12 px by 12 px."
   ]
  },
  {
   "cell_type": "markdown",
   "id": "bf215ffe",
   "metadata": {},
   "source": [
    "## Run the following cells ->"
   ]
  },
  {
   "cell_type": "code",
   "execution_count": 4,
   "id": "0ecd7540",
   "metadata": {
    "scrolled": true
   },
   "outputs": [
    {
     "name": "stdout",
     "output_type": "stream",
     "text": [
      "Analyzing 148 files in Sample Files/0.1 OD/4/Analyzed_50\n"
     ]
    }
   ],
   "source": [
    "# specify directory\n",
    "path = 'Sample Files/'\n",
    "       \n",
    "# determines the maximum practical frame rate\n",
    "nfiles = pt.count_samples(path);\n",
    "print('Analyzing ' + str(nfiles) + ' files in ' + path);\n",
    "        \n",
    "# stores the blocked data of the sample in a slot \n",
    "pos_data = pt.get_pos_data(path=path)\n",
    "\n",
    "# these are the column names of the data frame\n",
    "rows = [[\"ID\",\"t.sec\",\"X.px\",\"Y.px\"]] + pos_data"
   ]
  },
  {
   "cell_type": "markdown",
   "id": "e9294940",
   "metadata": {},
   "source": [
    "Save position data as a CSV:"
   ]
  },
  {
   "cell_type": "code",
   "execution_count": 5,
   "id": "f2b1d653",
   "metadata": {},
   "outputs": [],
   "source": [
    "p = 'Out/' # save directory\n",
    "\n",
    "import csv\n",
    "\n",
    "with open(p, 'w') as f:\n",
    "     \n",
    "    # using csv.writer method from CSV package\n",
    "    write = csv.writer(f)\n",
    "    write.writerows(rows)"
   ]
  }
 ],
 "metadata": {
  "kernelspec": {
   "display_name": "Python 3",
   "language": "python",
   "name": "python3"
  },
  "language_info": {
   "codemirror_mode": {
    "name": "ipython",
    "version": 3
   },
   "file_extension": ".py",
   "mimetype": "text/x-python",
   "name": "python",
   "nbconvert_exporter": "python",
   "pygments_lexer": "ipython3",
   "version": "3.8.8"
  }
 },
 "nbformat": 4,
 "nbformat_minor": 5
}
